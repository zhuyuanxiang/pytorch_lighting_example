{
 "cells": [
  {
   "cell_type": "code",
   "execution_count": 1,
   "metadata": {
    "collapsed": false,
    "pycharm": {
     "name": "#%%\n"
    }
   },
   "outputs": [],
   "source": [
    "import torch.nn as nn\n",
    "import torch"
   ]
  },
  {
   "cell_type": "code",
   "execution_count": 7,
   "metadata": {
    "collapsed": true,
    "pycharm": {
     "name": "#%%\n"
    }
   },
   "outputs": [
    {
     "data": {
      "text/plain": [
       "(torch.Size([20, 32, 512]),\n",
       " TransformerDecoder(\n",
       "   (layers): ModuleList(\n",
       "     (0): TransformerDecoderLayer(\n",
       "       (self_attn): MultiheadAttention(\n",
       "         (out_proj): NonDynamicallyQuantizableLinear(in_features=512, out_features=512, bias=True)\n",
       "       )\n",
       "       (multihead_attn): MultiheadAttention(\n",
       "         (out_proj): NonDynamicallyQuantizableLinear(in_features=512, out_features=512, bias=True)\n",
       "       )\n",
       "       (linear1): Linear(in_features=512, out_features=2048, bias=True)\n",
       "       (dropout): Dropout(p=0.1, inplace=False)\n",
       "       (linear2): Linear(in_features=2048, out_features=512, bias=True)\n",
       "       (norm1): LayerNorm((512,), eps=1e-05, elementwise_affine=True)\n",
       "       (norm2): LayerNorm((512,), eps=1e-05, elementwise_affine=True)\n",
       "       (norm3): LayerNorm((512,), eps=1e-05, elementwise_affine=True)\n",
       "       (dropout1): Dropout(p=0.1, inplace=False)\n",
       "       (dropout2): Dropout(p=0.1, inplace=False)\n",
       "       (dropout3): Dropout(p=0.1, inplace=False)\n",
       "     )\n",
       "     (1): TransformerDecoderLayer(\n",
       "       (self_attn): MultiheadAttention(\n",
       "         (out_proj): NonDynamicallyQuantizableLinear(in_features=512, out_features=512, bias=True)\n",
       "       )\n",
       "       (multihead_attn): MultiheadAttention(\n",
       "         (out_proj): NonDynamicallyQuantizableLinear(in_features=512, out_features=512, bias=True)\n",
       "       )\n",
       "       (linear1): Linear(in_features=512, out_features=2048, bias=True)\n",
       "       (dropout): Dropout(p=0.1, inplace=False)\n",
       "       (linear2): Linear(in_features=2048, out_features=512, bias=True)\n",
       "       (norm1): LayerNorm((512,), eps=1e-05, elementwise_affine=True)\n",
       "       (norm2): LayerNorm((512,), eps=1e-05, elementwise_affine=True)\n",
       "       (norm3): LayerNorm((512,), eps=1e-05, elementwise_affine=True)\n",
       "       (dropout1): Dropout(p=0.1, inplace=False)\n",
       "       (dropout2): Dropout(p=0.1, inplace=False)\n",
       "       (dropout3): Dropout(p=0.1, inplace=False)\n",
       "     )\n",
       "     (2): TransformerDecoderLayer(\n",
       "       (self_attn): MultiheadAttention(\n",
       "         (out_proj): NonDynamicallyQuantizableLinear(in_features=512, out_features=512, bias=True)\n",
       "       )\n",
       "       (multihead_attn): MultiheadAttention(\n",
       "         (out_proj): NonDynamicallyQuantizableLinear(in_features=512, out_features=512, bias=True)\n",
       "       )\n",
       "       (linear1): Linear(in_features=512, out_features=2048, bias=True)\n",
       "       (dropout): Dropout(p=0.1, inplace=False)\n",
       "       (linear2): Linear(in_features=2048, out_features=512, bias=True)\n",
       "       (norm1): LayerNorm((512,), eps=1e-05, elementwise_affine=True)\n",
       "       (norm2): LayerNorm((512,), eps=1e-05, elementwise_affine=True)\n",
       "       (norm3): LayerNorm((512,), eps=1e-05, elementwise_affine=True)\n",
       "       (dropout1): Dropout(p=0.1, inplace=False)\n",
       "       (dropout2): Dropout(p=0.1, inplace=False)\n",
       "       (dropout3): Dropout(p=0.1, inplace=False)\n",
       "     )\n",
       "     (3): TransformerDecoderLayer(\n",
       "       (self_attn): MultiheadAttention(\n",
       "         (out_proj): NonDynamicallyQuantizableLinear(in_features=512, out_features=512, bias=True)\n",
       "       )\n",
       "       (multihead_attn): MultiheadAttention(\n",
       "         (out_proj): NonDynamicallyQuantizableLinear(in_features=512, out_features=512, bias=True)\n",
       "       )\n",
       "       (linear1): Linear(in_features=512, out_features=2048, bias=True)\n",
       "       (dropout): Dropout(p=0.1, inplace=False)\n",
       "       (linear2): Linear(in_features=2048, out_features=512, bias=True)\n",
       "       (norm1): LayerNorm((512,), eps=1e-05, elementwise_affine=True)\n",
       "       (norm2): LayerNorm((512,), eps=1e-05, elementwise_affine=True)\n",
       "       (norm3): LayerNorm((512,), eps=1e-05, elementwise_affine=True)\n",
       "       (dropout1): Dropout(p=0.1, inplace=False)\n",
       "       (dropout2): Dropout(p=0.1, inplace=False)\n",
       "       (dropout3): Dropout(p=0.1, inplace=False)\n",
       "     )\n",
       "     (4): TransformerDecoderLayer(\n",
       "       (self_attn): MultiheadAttention(\n",
       "         (out_proj): NonDynamicallyQuantizableLinear(in_features=512, out_features=512, bias=True)\n",
       "       )\n",
       "       (multihead_attn): MultiheadAttention(\n",
       "         (out_proj): NonDynamicallyQuantizableLinear(in_features=512, out_features=512, bias=True)\n",
       "       )\n",
       "       (linear1): Linear(in_features=512, out_features=2048, bias=True)\n",
       "       (dropout): Dropout(p=0.1, inplace=False)\n",
       "       (linear2): Linear(in_features=2048, out_features=512, bias=True)\n",
       "       (norm1): LayerNorm((512,), eps=1e-05, elementwise_affine=True)\n",
       "       (norm2): LayerNorm((512,), eps=1e-05, elementwise_affine=True)\n",
       "       (norm3): LayerNorm((512,), eps=1e-05, elementwise_affine=True)\n",
       "       (dropout1): Dropout(p=0.1, inplace=False)\n",
       "       (dropout2): Dropout(p=0.1, inplace=False)\n",
       "       (dropout3): Dropout(p=0.1, inplace=False)\n",
       "     )\n",
       "     (5): TransformerDecoderLayer(\n",
       "       (self_attn): MultiheadAttention(\n",
       "         (out_proj): NonDynamicallyQuantizableLinear(in_features=512, out_features=512, bias=True)\n",
       "       )\n",
       "       (multihead_attn): MultiheadAttention(\n",
       "         (out_proj): NonDynamicallyQuantizableLinear(in_features=512, out_features=512, bias=True)\n",
       "       )\n",
       "       (linear1): Linear(in_features=512, out_features=2048, bias=True)\n",
       "       (dropout): Dropout(p=0.1, inplace=False)\n",
       "       (linear2): Linear(in_features=2048, out_features=512, bias=True)\n",
       "       (norm1): LayerNorm((512,), eps=1e-05, elementwise_affine=True)\n",
       "       (norm2): LayerNorm((512,), eps=1e-05, elementwise_affine=True)\n",
       "       (norm3): LayerNorm((512,), eps=1e-05, elementwise_affine=True)\n",
       "       (dropout1): Dropout(p=0.1, inplace=False)\n",
       "       (dropout2): Dropout(p=0.1, inplace=False)\n",
       "       (dropout3): Dropout(p=0.1, inplace=False)\n",
       "     )\n",
       "   )\n",
       " ),\n",
       " TransformerDecoderLayer(\n",
       "   (self_attn): MultiheadAttention(\n",
       "     (out_proj): NonDynamicallyQuantizableLinear(in_features=512, out_features=512, bias=True)\n",
       "   )\n",
       "   (multihead_attn): MultiheadAttention(\n",
       "     (out_proj): NonDynamicallyQuantizableLinear(in_features=512, out_features=512, bias=True)\n",
       "   )\n",
       "   (linear1): Linear(in_features=512, out_features=2048, bias=True)\n",
       "   (dropout): Dropout(p=0.1, inplace=False)\n",
       "   (linear2): Linear(in_features=2048, out_features=512, bias=True)\n",
       "   (norm1): LayerNorm((512,), eps=1e-05, elementwise_affine=True)\n",
       "   (norm2): LayerNorm((512,), eps=1e-05, elementwise_affine=True)\n",
       "   (norm3): LayerNorm((512,), eps=1e-05, elementwise_affine=True)\n",
       "   (dropout1): Dropout(p=0.1, inplace=False)\n",
       "   (dropout2): Dropout(p=0.1, inplace=False)\n",
       "   (dropout3): Dropout(p=0.1, inplace=False)\n",
       " ))"
      ]
     },
     "execution_count": 7,
     "metadata": {},
     "output_type": "execute_result"
    }
   ],
   "source": [
    "decoder_layer = nn.TransformerDecoderLayer(d_model=512, nhead=8)\n",
    "transformer_decoder = nn.TransformerDecoder(decoder_layer, num_layers=6)\n",
    "memory = torch.rand(10, 32, 512)\n",
    "tgt = torch.rand(20, 32, 512)\n",
    "out = transformer_decoder(tgt, memory)\n",
    "out.size(), transformer_decoder, decoder_layer"
   ]
  },
  {
   "cell_type": "markdown",
   "metadata": {
    "collapsed": false,
    "pycharm": {
     "name": "#%% md\n"
    }
   },
   "source": [
    "# 参考文献\n",
    "https://pytorch.org/docs/stable/generated/torch.nn.TransformerDecoder.html#torch.nn.TransformerDecoder\n"
   ]
  },
  {
   "cell_type": "code",
   "execution_count": null,
   "metadata": {
    "collapsed": false,
    "pycharm": {
     "name": "#%%\n"
    }
   },
   "outputs": [],
   "source": []
  }
 ],
 "metadata": {
  "kernelspec": {
   "display_name": "Python 3.7.13 ('lightning')",
   "language": "python",
   "name": "python3"
  },
  "language_info": {
   "codemirror_mode": {
    "name": "ipython",
    "version": 2
   },
   "file_extension": ".py",
   "mimetype": "text/x-python",
   "name": "python",
   "nbconvert_exporter": "python",
   "pygments_lexer": "ipython2",
   "version": "3.7.13"
  },
  "vscode": {
   "interpreter": {
    "hash": "5bdd31c70f234883250b5303819f029b961abe348fad359a99a0be79284b5f6b"
   }
  }
 },
 "nbformat": 4,
 "nbformat_minor": 0
}
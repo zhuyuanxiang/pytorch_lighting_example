{
 "cells": [
  {
   "cell_type": "code",
   "execution_count": 1,
   "metadata": {
    "collapsed": false,
    "pycharm": {
     "name": "#%%\n"
    }
   },
   "outputs": [],
   "source": [
    "import torch\n",
    "import torch.nn as nn"
   ]
  },
  {
   "cell_type": "code",
   "execution_count": 3,
   "metadata": {
    "collapsed": false,
    "pycharm": {
     "name": "#%%\n"
    }
   },
   "outputs": [
    {
     "data": {
      "text/plain": [
       "(torch.Size([10, 32, 512]),\n",
       " TransformerEncoderLayer(\n",
       "   (self_attn): MultiheadAttention(\n",
       "     (out_proj): NonDynamicallyQuantizableLinear(in_features=512, out_features=512, bias=True)\n",
       "   )\n",
       "   (linear1): Linear(in_features=512, out_features=2048, bias=True)\n",
       "   (dropout): Dropout(p=0.1, inplace=False)\n",
       "   (linear2): Linear(in_features=2048, out_features=512, bias=True)\n",
       "   (norm1): LayerNorm((512,), eps=1e-05, elementwise_affine=True)\n",
       "   (norm2): LayerNorm((512,), eps=1e-05, elementwise_affine=True)\n",
       "   (dropout1): Dropout(p=0.1, inplace=False)\n",
       "   (dropout2): Dropout(p=0.1, inplace=False)\n",
       " ),\n",
       " TransformerEncoder(\n",
       "   (layers): ModuleList(\n",
       "     (0): TransformerEncoderLayer(\n",
       "       (self_attn): MultiheadAttention(\n",
       "         (out_proj): NonDynamicallyQuantizableLinear(in_features=512, out_features=512, bias=True)\n",
       "       )\n",
       "       (linear1): Linear(in_features=512, out_features=2048, bias=True)\n",
       "       (dropout): Dropout(p=0.1, inplace=False)\n",
       "       (linear2): Linear(in_features=2048, out_features=512, bias=True)\n",
       "       (norm1): LayerNorm((512,), eps=1e-05, elementwise_affine=True)\n",
       "       (norm2): LayerNorm((512,), eps=1e-05, elementwise_affine=True)\n",
       "       (dropout1): Dropout(p=0.1, inplace=False)\n",
       "       (dropout2): Dropout(p=0.1, inplace=False)\n",
       "     )\n",
       "     (1): TransformerEncoderLayer(\n",
       "       (self_attn): MultiheadAttention(\n",
       "         (out_proj): NonDynamicallyQuantizableLinear(in_features=512, out_features=512, bias=True)\n",
       "       )\n",
       "       (linear1): Linear(in_features=512, out_features=2048, bias=True)\n",
       "       (dropout): Dropout(p=0.1, inplace=False)\n",
       "       (linear2): Linear(in_features=2048, out_features=512, bias=True)\n",
       "       (norm1): LayerNorm((512,), eps=1e-05, elementwise_affine=True)\n",
       "       (norm2): LayerNorm((512,), eps=1e-05, elementwise_affine=True)\n",
       "       (dropout1): Dropout(p=0.1, inplace=False)\n",
       "       (dropout2): Dropout(p=0.1, inplace=False)\n",
       "     )\n",
       "     (2): TransformerEncoderLayer(\n",
       "       (self_attn): MultiheadAttention(\n",
       "         (out_proj): NonDynamicallyQuantizableLinear(in_features=512, out_features=512, bias=True)\n",
       "       )\n",
       "       (linear1): Linear(in_features=512, out_features=2048, bias=True)\n",
       "       (dropout): Dropout(p=0.1, inplace=False)\n",
       "       (linear2): Linear(in_features=2048, out_features=512, bias=True)\n",
       "       (norm1): LayerNorm((512,), eps=1e-05, elementwise_affine=True)\n",
       "       (norm2): LayerNorm((512,), eps=1e-05, elementwise_affine=True)\n",
       "       (dropout1): Dropout(p=0.1, inplace=False)\n",
       "       (dropout2): Dropout(p=0.1, inplace=False)\n",
       "     )\n",
       "     (3): TransformerEncoderLayer(\n",
       "       (self_attn): MultiheadAttention(\n",
       "         (out_proj): NonDynamicallyQuantizableLinear(in_features=512, out_features=512, bias=True)\n",
       "       )\n",
       "       (linear1): Linear(in_features=512, out_features=2048, bias=True)\n",
       "       (dropout): Dropout(p=0.1, inplace=False)\n",
       "       (linear2): Linear(in_features=2048, out_features=512, bias=True)\n",
       "       (norm1): LayerNorm((512,), eps=1e-05, elementwise_affine=True)\n",
       "       (norm2): LayerNorm((512,), eps=1e-05, elementwise_affine=True)\n",
       "       (dropout1): Dropout(p=0.1, inplace=False)\n",
       "       (dropout2): Dropout(p=0.1, inplace=False)\n",
       "     )\n",
       "     (4): TransformerEncoderLayer(\n",
       "       (self_attn): MultiheadAttention(\n",
       "         (out_proj): NonDynamicallyQuantizableLinear(in_features=512, out_features=512, bias=True)\n",
       "       )\n",
       "       (linear1): Linear(in_features=512, out_features=2048, bias=True)\n",
       "       (dropout): Dropout(p=0.1, inplace=False)\n",
       "       (linear2): Linear(in_features=2048, out_features=512, bias=True)\n",
       "       (norm1): LayerNorm((512,), eps=1e-05, elementwise_affine=True)\n",
       "       (norm2): LayerNorm((512,), eps=1e-05, elementwise_affine=True)\n",
       "       (dropout1): Dropout(p=0.1, inplace=False)\n",
       "       (dropout2): Dropout(p=0.1, inplace=False)\n",
       "     )\n",
       "     (5): TransformerEncoderLayer(\n",
       "       (self_attn): MultiheadAttention(\n",
       "         (out_proj): NonDynamicallyQuantizableLinear(in_features=512, out_features=512, bias=True)\n",
       "       )\n",
       "       (linear1): Linear(in_features=512, out_features=2048, bias=True)\n",
       "       (dropout): Dropout(p=0.1, inplace=False)\n",
       "       (linear2): Linear(in_features=2048, out_features=512, bias=True)\n",
       "       (norm1): LayerNorm((512,), eps=1e-05, elementwise_affine=True)\n",
       "       (norm2): LayerNorm((512,), eps=1e-05, elementwise_affine=True)\n",
       "       (dropout1): Dropout(p=0.1, inplace=False)\n",
       "       (dropout2): Dropout(p=0.1, inplace=False)\n",
       "     )\n",
       "   )\n",
       " ))"
      ]
     },
     "execution_count": 3,
     "metadata": {},
     "output_type": "execute_result"
    }
   ],
   "source": [
    "encoder_layer = nn.TransformerEncoderLayer(d_model=512, nhead=8)\n",
    "transformer_encoder = nn.TransformerEncoder(encoder_layer, num_layers=6)\n",
    "src = torch.rand(10, 32, 512)\n",
    "out = transformer_encoder(src)\n",
    "out.size(), encoder_layer, transformer_encoder"
   ]
  },
  {
   "cell_type": "code",
   "execution_count": null,
   "metadata": {
    "collapsed": false,
    "pycharm": {
     "name": "#%%\n"
    }
   },
   "outputs": [],
   "source": []
  }
 ],
 "metadata": {
  "kernelspec": {
   "display_name": "Python 3.7.13 ('lightning')",
   "language": "python",
   "name": "python3"
  },
  "language_info": {
   "codemirror_mode": {
    "name": "ipython",
    "version": 2
   },
   "file_extension": ".py",
   "mimetype": "text/x-python",
   "name": "python",
   "nbconvert_exporter": "python",
   "pygments_lexer": "ipython2",
   "version": "3.7.13"
  },
  "vscode": {
   "interpreter": {
    "hash": "5bdd31c70f234883250b5303819f029b961abe348fad359a99a0be79284b5f6b"
   }
  }
 },
 "nbformat": 4,
 "nbformat_minor": 0
}